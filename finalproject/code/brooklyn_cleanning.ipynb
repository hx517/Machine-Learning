{
 "cells": [
  {
   "cell_type": "code",
   "execution_count": null,
   "metadata": {},
   "outputs": [],
   "source": [
    "import pandas as pd\n",
    "import numpy as np"
   ]
  },
  {
   "cell_type": "code",
   "execution_count": null,
   "metadata": {},
   "outputs": [],
   "source": [
    "df = pd.read_csv('add_community.csv')\n",
    "df.head()"
   ]
  },
  {
   "cell_type": "markdown",
   "metadata": {},
   "source": [
    "df = df[(df['BoroCD'] == 307) | (df['BoroCD'] == 310) | (df['BoroCD'] == 311) | (df['BoroCD'] == 312) | (df['BoroCD'] == 314) | (df['BoroCD'] == 315) | (df['BoroCD'] == 318)]"
   ]
  },
  {
   "cell_type": "code",
   "execution_count": null,
   "metadata": {},
   "outputs": [],
   "source": [
    "df.shape"
   ]
  },
  {
   "cell_type": "markdown",
   "metadata": {},
   "source": [
    "df.to_csv('brooklyn_AD.csv')"
   ]
  },
  {
   "cell_type": "code",
   "execution_count": null,
   "metadata": {},
   "outputs": [],
   "source": [
    "df.columns"
   ]
  },
  {
   "cell_type": "code",
   "execution_count": null,
   "metadata": {},
   "outputs": [],
   "source": [
    "df = df[['OFNS_DESC','hour','weekday','BoroCD']]\n",
    "df.head()"
   ]
  },
  {
   "cell_type": "code",
   "execution_count": null,
   "metadata": {},
   "outputs": [],
   "source": [
    "df.columns = [['crime','hour','weekday','community']]\n",
    "df.head()"
   ]
  },
  {
   "cell_type": "code",
   "execution_count": null,
   "metadata": {},
   "outputs": [],
   "source": [
    "df.shape"
   ]
  },
  {
   "cell_type": "code",
   "execution_count": null,
   "metadata": {},
   "outputs": [],
   "source": [
    "bro = pd.read_csv('Brooklyn_cluster.csv')\n",
    "del bro[bro.columns[0]]\n",
    "bro = bro[['community','labels']]\n",
    "bro = bro[bro['labels'] == 1]\n",
    "bro = bro.reset_index(drop=True)\n",
    "bro"
   ]
  },
  {
   "cell_type": "code",
   "execution_count": null,
   "metadata": {},
   "outputs": [],
   "source": [
    "df = df[(df['community'] == 307) | (df['community'] == 310) | (df['community'] == 311) | (df['community'] == 312) | (df['community'] == 314) | (df['community'] == 315) | (df['community'] == 318)]"
   ]
  },
  {
   "cell_type": "code",
   "execution_count": null,
   "metadata": {},
   "outputs": [],
   "source": [
    "df = df.reset_index(drop=True)"
   ]
  },
  {
   "cell_type": "code",
   "execution_count": null,
   "metadata": {},
   "outputs": [],
   "source": [
    "np.unique(df['community'])"
   ]
  },
  {
   "cell_type": "code",
   "execution_count": null,
   "metadata": {},
   "outputs": [],
   "source": [
    "df.head()"
   ]
  },
  {
   "cell_type": "code",
   "execution_count": null,
   "metadata": {},
   "outputs": [],
   "source": [
    "df.shape"
   ]
  },
  {
   "cell_type": "code",
   "execution_count": null,
   "metadata": {},
   "outputs": [],
   "source": [
    "len(df.crime.unique())"
   ]
  },
  {
   "cell_type": "code",
   "execution_count": null,
   "metadata": {},
   "outputs": [],
   "source": [
    "filter = df.groupby('crime').count()\n",
    "filter = filter[filter['hour'] > 200]\n",
    "filter.head()"
   ]
  },
  {
   "cell_type": "code",
   "execution_count": null,
   "metadata": {},
   "outputs": [],
   "source": [
    "len(filter.index.unique())"
   ]
  },
  {
   "cell_type": "code",
   "execution_count": null,
   "metadata": {},
   "outputs": [],
   "source": [
    "df = df[df['crime'].isin(filter.index.unique())]"
   ]
  },
  {
   "cell_type": "code",
   "execution_count": null,
   "metadata": {},
   "outputs": [],
   "source": [
    "df = df.reset_index(drop=True)"
   ]
  },
  {
   "cell_type": "markdown",
   "metadata": {},
   "source": [
    "## Calculate percent of hour"
   ]
  },
  {
   "cell_type": "code",
   "execution_count": null,
   "metadata": {},
   "outputs": [],
   "source": [
    "df1 = df[['crime','hour']]"
   ]
  },
  {
   "cell_type": "code",
   "execution_count": null,
   "metadata": {},
   "outputs": [],
   "source": [
    "data1 = df1[df1['crime'] == df1['crime'].unique()[0]].groupby('hour').count().T\n",
    "data1.index = range(0,1)\n",
    "data1.head()"
   ]
  },
  {
   "cell_type": "code",
   "execution_count": null,
   "metadata": {},
   "outputs": [],
   "source": [
    "for i in range(1,len(df1['crime'].unique())):\n",
    "    DATA = df1[df1['crime'] == df1['crime'].unique()[i]].groupby('hour').count().T\n",
    "    DATA.index = range(i,i+1)\n",
    "    data1 = pd.concat([data1,DATA])"
   ]
  },
  {
   "cell_type": "code",
   "execution_count": null,
   "metadata": {},
   "outputs": [],
   "source": [
    "data1.index = df1['crime'].unique()"
   ]
  },
  {
   "cell_type": "code",
   "execution_count": null,
   "metadata": {},
   "outputs": [],
   "source": [
    "data1.head()"
   ]
  },
  {
   "cell_type": "code",
   "execution_count": null,
   "metadata": {},
   "outputs": [],
   "source": [
    "data1.shape"
   ]
  },
  {
   "cell_type": "code",
   "execution_count": null,
   "metadata": {},
   "outputs": [],
   "source": [
    "data1['sum'] = data1[data1.columns[0]]\n",
    "\n",
    "for i in range(20):\n",
    "    data1.iloc[i,-1] = data1.iloc[i,:-1].sum()\n",
    "    \n",
    "for i in range(20):\n",
    "    for j in range(24):\n",
    "        data1.iloc[i,j] = data1.iloc[i,j] / data1.iloc[i,-1]       \n",
    "        \n",
    "data1 = data1.iloc[:,:-1]\n",
    "\n",
    "data1.columns = 'hour_' + data1.columns.map(str)\n",
    "\n",
    "hour = data1.copy()\n",
    "\n",
    "hour.head()"
   ]
  },
  {
   "cell_type": "code",
   "execution_count": null,
   "metadata": {},
   "outputs": [],
   "source": [
    "hour = hour.fillna(0)"
   ]
  },
  {
   "cell_type": "code",
   "execution_count": null,
   "metadata": {},
   "outputs": [],
   "source": []
  },
  {
   "cell_type": "code",
   "execution_count": null,
   "metadata": {},
   "outputs": [],
   "source": [
    "from sklearn.cluster import KMeans\n",
    "from sklearn.metrics import silhouette_score\n",
    "x = hour[[x for x in hour.columns if 'hour' in x]]\n",
    "score = {}\n",
    "for i in range(2,10):\n",
    "    km = KMeans(random_state=999,n_clusters=i)\n",
    "    res=km.fit(x)\n",
    "    labels = res.labels_\n",
    "    score[i] = silhouette_score(x, labels)\n",
    "    print(\"For n_clusters = {},\".format(i)+\" the silhouette_score is : {}\".format(score[i]))\n",
    "print('The choosen number of clusters is {}'.format([n for n in score.keys() if score[n]==max(score.values())][0]))"
   ]
  },
  {
   "cell_type": "code",
   "execution_count": null,
   "metadata": {},
   "outputs": [],
   "source": [
    "from sklearn.cluster import KMeans\n",
    "km = KMeans(random_state=999,n_clusters=2)\n",
    "res=km.fit(hour[[x for x in hour.columns if 'hour' in x]])\n",
    "\n",
    "print 'Cluster assignments:',res.labels_\n",
    "print '\\nCluster centers:\\n',res.cluster_centers_\n",
    "print '\\nSum of squared errors:',res.inertia_"
   ]
  },
  {
   "cell_type": "code",
   "execution_count": null,
   "metadata": {},
   "outputs": [],
   "source": [
    "crime = hour[[x for x in hour.columns if 'hour' in x]].copy()\n",
    "crime['labels'] = res.labels_"
   ]
  },
  {
   "cell_type": "code",
   "execution_count": null,
   "metadata": {},
   "outputs": [],
   "source": [
    "hr_mean = pd.DataFrame({'hour_{}'.format(x):0 for x in range(0,24)},index=[0,1])\n",
    "hr_mean.columns = sorted(hr_mean.columns,key=lambda x: int(x[5:]))"
   ]
  },
  {
   "cell_type": "code",
   "execution_count": null,
   "metadata": {},
   "outputs": [],
   "source": [
    "for i in range(0,2):\n",
    "    hr_mean.iloc[i] = crime[crime['labels']==i].mean(0)"
   ]
  },
  {
   "cell_type": "code",
   "execution_count": null,
   "metadata": {},
   "outputs": [],
   "source": [
    "from matplotlib import pyplot as plt"
   ]
  },
  {
   "cell_type": "code",
   "execution_count": null,
   "metadata": {
    "scrolled": false
   },
   "outputs": [],
   "source": [
    "hr_mean.T.plot(figsize=[20,10],xticks=range(24),title='mean values of each cluster for each hour')\n",
    "plt.show()"
   ]
  },
  {
   "cell_type": "code",
   "execution_count": null,
   "metadata": {},
   "outputs": [],
   "source": [
    "crime.head()"
   ]
  },
  {
   "cell_type": "code",
   "execution_count": null,
   "metadata": {},
   "outputs": [],
   "source": [
    "cluster0 = crime[crime['labels'] == 0]"
   ]
  },
  {
   "cell_type": "code",
   "execution_count": null,
   "metadata": {},
   "outputs": [],
   "source": [
    "cluster0['labels'] = 2"
   ]
  },
  {
   "cell_type": "code",
   "execution_count": null,
   "metadata": {},
   "outputs": [],
   "source": [
    "cluster0"
   ]
  },
  {
   "cell_type": "code",
   "execution_count": null,
   "metadata": {},
   "outputs": [],
   "source": [
    "cluster1 = crime[crime['labels'] == 1].iloc[:,:-1]"
   ]
  },
  {
   "cell_type": "code",
   "execution_count": null,
   "metadata": {},
   "outputs": [],
   "source": [
    "from sklearn.metrics import silhouette_score\n",
    "x = cluster1\n",
    "score = {}\n",
    "for i in range(2,10):\n",
    "    km = KMeans(random_state=999,n_clusters=i)\n",
    "    res=km.fit(x)\n",
    "    labels = res.labels_\n",
    "    score[i] = silhouette_score(x, labels)\n",
    "    print(\"For n_clusters = {},\".format(i)+\" the silhouette_score is : {}\".format(score[i]))\n",
    "print('The choosen number of clusters is {}'.format([n for n in score.keys() if score[n]==max(score.values())][0]))"
   ]
  },
  {
   "cell_type": "code",
   "execution_count": null,
   "metadata": {},
   "outputs": [],
   "source": [
    "from sklearn.cluster import KMeans\n",
    "km = KMeans(random_state=999,n_clusters=2)\n",
    "res=km.fit(x)\n",
    "\n",
    "print 'Cluster assignments:',res.labels_\n",
    "print '\\nCluster centers:\\n',res.cluster_centers_\n",
    "print '\\nSum of squared errors:',res.inertia_"
   ]
  },
  {
   "cell_type": "code",
   "execution_count": null,
   "metadata": {},
   "outputs": [],
   "source": [
    "cluster1['labels'] = res.labels_\n",
    "cluster1.head()"
   ]
  },
  {
   "cell_type": "code",
   "execution_count": null,
   "metadata": {},
   "outputs": [],
   "source": [
    "cluster1[cluster1['labels'] == 0]"
   ]
  },
  {
   "cell_type": "code",
   "execution_count": null,
   "metadata": {},
   "outputs": [],
   "source": [
    "cluster1[cluster1['labels'] == 1]"
   ]
  },
  {
   "cell_type": "code",
   "execution_count": null,
   "metadata": {},
   "outputs": [],
   "source": [
    "hr_mean = pd.DataFrame({'hour_{}'.format(x):0 for x in range(0,24)},index=[0,1])\n",
    "hr_mean.columns = sorted(hr_mean.columns,key=lambda x: int(x[5:]))"
   ]
  },
  {
   "cell_type": "code",
   "execution_count": null,
   "metadata": {},
   "outputs": [],
   "source": [
    "for i in range(0,2):\n",
    "    hr_mean.iloc[i] = cluster1[cluster1['labels']==i].mean(0)"
   ]
  },
  {
   "cell_type": "code",
   "execution_count": null,
   "metadata": {},
   "outputs": [],
   "source": [
    "from matplotlib import pyplot as plt\n",
    "hr_mean.T.plot(figsize=[20,10],xticks=range(24),title='mean values of each cluster for each hour')\n",
    "plt.show()"
   ]
  },
  {
   "cell_type": "code",
   "execution_count": null,
   "metadata": {},
   "outputs": [],
   "source": [
    "cluster = pd.concat([cluster1,cluster0])"
   ]
  },
  {
   "cell_type": "code",
   "execution_count": null,
   "metadata": {},
   "outputs": [],
   "source": [
    "hr_mean = pd.DataFrame({'hour_{}'.format(x):0 for x in range(0,24)},index=[0,1,2])\n",
    "hr_mean.columns = sorted(hr_mean.columns,key=lambda x: int(x[5:]))"
   ]
  },
  {
   "cell_type": "code",
   "execution_count": null,
   "metadata": {},
   "outputs": [],
   "source": [
    "for i in range(0,3):\n",
    "    hr_mean.iloc[i] = cluster[cluster['labels']==i].mean(0)"
   ]
  },
  {
   "cell_type": "code",
   "execution_count": null,
   "metadata": {},
   "outputs": [],
   "source": [
    "hr_mean"
   ]
  },
  {
   "cell_type": "code",
   "execution_count": null,
   "metadata": {},
   "outputs": [],
   "source": [
    "from matplotlib import pyplot as plt\n",
    "hr_mean.T.plot(figsize=[20,10],xticks=range(24),title='mean values of each cluster for each hour')\n",
    "plt.show()"
   ]
  },
  {
   "cell_type": "markdown",
   "metadata": {},
   "source": [
    "## Calculate percent of weekday"
   ]
  },
  {
   "cell_type": "code",
   "execution_count": null,
   "metadata": {},
   "outputs": [],
   "source": [
    "df.shape"
   ]
  },
  {
   "cell_type": "code",
   "execution_count": null,
   "metadata": {},
   "outputs": [],
   "source": [
    "df1 = df[['crime','weekday']]\n",
    "df1.head()"
   ]
  },
  {
   "cell_type": "code",
   "execution_count": null,
   "metadata": {},
   "outputs": [],
   "source": [
    "merge =pd.DataFrame([['SUNDAY',7],['MONDAY',1],['TUESDAY',2],['WEDNESDAY',3],['THURSDAY',4],['FRIDAY',5],['SATURDAY',6]],columns=['weekday', 'day'])\n",
    "merge.day = merge.day.astype(int)\n",
    "merge.day = merge.day.astype(str)\n",
    "merge.head()"
   ]
  },
  {
   "cell_type": "code",
   "execution_count": null,
   "metadata": {},
   "outputs": [],
   "source": [
    "df1 = pd.merge(merge,df1,on='weekday')\n",
    "df1 = df1[['crime','day']]\n",
    "df1.head()"
   ]
  },
  {
   "cell_type": "code",
   "execution_count": null,
   "metadata": {},
   "outputs": [],
   "source": [
    "data1 = df1[df1['crime'] == df1['crime'].unique()[0]].groupby('day').count().T\n",
    "data1.index = range(0,1)\n",
    "data1 = data1[['7','1','2','3','4','5','6']]\n",
    "data1.head()"
   ]
  },
  {
   "cell_type": "code",
   "execution_count": null,
   "metadata": {},
   "outputs": [],
   "source": [
    "for i in range(1,len(df1['crime'].unique())):\n",
    "    DATA = df1[df1['crime'] == df1['crime'].unique()[i]].groupby('day').count().T\n",
    "    DATA.index = range(i,i+1)\n",
    "    data1 = pd.concat([data1,DATA])"
   ]
  },
  {
   "cell_type": "code",
   "execution_count": null,
   "metadata": {},
   "outputs": [],
   "source": [
    "data1.index = df1['crime'].unique()"
   ]
  },
  {
   "cell_type": "code",
   "execution_count": null,
   "metadata": {},
   "outputs": [],
   "source": [
    "data1"
   ]
  },
  {
   "cell_type": "code",
   "execution_count": null,
   "metadata": {},
   "outputs": [],
   "source": [
    "data1['sum'] = data1[data1.columns[0]]"
   ]
  },
  {
   "cell_type": "code",
   "execution_count": null,
   "metadata": {},
   "outputs": [],
   "source": [
    "for i in range(20):\n",
    "    data1.iloc[i,-1] = data1.iloc[i,:-1].sum()\n",
    "data1"
   ]
  },
  {
   "cell_type": "code",
   "execution_count": null,
   "metadata": {},
   "outputs": [],
   "source": [
    "for i in data1.columns[:-1]:\n",
    "    data1[i] = data1[i] / data1['sum']\n",
    "data1"
   ]
  },
  {
   "cell_type": "code",
   "execution_count": null,
   "metadata": {},
   "outputs": [],
   "source": [
    "data1 = data1.iloc[:,:-1]\n",
    "\n",
    "weekday = data1.copy()\n",
    "\n",
    "weekday.columns = [['Monday','Tuesday','Wednesday','Thursday','Friday','Saturday','Sunday']]\n",
    "\n",
    "weekday.head()"
   ]
  },
  {
   "cell_type": "code",
   "execution_count": null,
   "metadata": {},
   "outputs": [],
   "source": [
    "weekday = weekday.fillna(0)"
   ]
  },
  {
   "cell_type": "code",
   "execution_count": null,
   "metadata": {},
   "outputs": [],
   "source": [
    "from sklearn.metrics import silhouette_score\n",
    "x = weekday\n",
    "score = {}\n",
    "for i in range(2,10):\n",
    "    km = KMeans(random_state=999,n_clusters=i)\n",
    "    res=km.fit(x)\n",
    "    labels = res.labels_\n",
    "    score[i] = silhouette_score(x, labels)\n",
    "    print(\"For n_clusters = {},\".format(i)+\" the silhouette_score is : {}\".format(score[i]))\n",
    "print('The choosen number of clusters is {}'.format([n for n in score.keys() if score[n]==max(score.values())][0]))"
   ]
  },
  {
   "cell_type": "code",
   "execution_count": null,
   "metadata": {},
   "outputs": [],
   "source": [
    "km = KMeans(random_state=999,n_clusters=2)\n",
    "res=km.fit(weekday)\n",
    "\n",
    "print 'Cluster assignments:',res.labels_\n",
    "print '\\nCluster centers:\\n',res.cluster_centers_\n",
    "print '\\nSum of squared errors:',res.inertia_"
   ]
  },
  {
   "cell_type": "code",
   "execution_count": null,
   "metadata": {},
   "outputs": [],
   "source": [
    "weekday['labels'] = res.labels_\n",
    "weekday.head()"
   ]
  },
  {
   "cell_type": "code",
   "execution_count": null,
   "metadata": {},
   "outputs": [],
   "source": [
    "weekday[weekday['labels'] == 1] "
   ]
  },
  {
   "cell_type": "code",
   "execution_count": null,
   "metadata": {},
   "outputs": [],
   "source": [
    "day_mean = pd.DataFrame({x:0 for x in range(7)},index=['cluster0','cluster1'])\n",
    "day_mean.columns = weekday.columns[:-1]\n",
    "for i in range(2):\n",
    "     day_mean.iloc[i] = weekday[weekday['labels']==i].iloc[:,:-1].mean()\n",
    "day_mean.head()"
   ]
  },
  {
   "cell_type": "code",
   "execution_count": null,
   "metadata": {},
   "outputs": [],
   "source": [
    "day_mean.T.plot(figsize=[15,8],title='different day-of-week trends for 5 clusters')"
   ]
  },
  {
   "cell_type": "code",
   "execution_count": null,
   "metadata": {},
   "outputs": [],
   "source": [
    "plt.show()"
   ]
  },
  {
   "cell_type": "code",
   "execution_count": null,
   "metadata": {},
   "outputs": [],
   "source": [
    "cluster0 = weekday[weekday['labels'] == 1]"
   ]
  },
  {
   "cell_type": "code",
   "execution_count": null,
   "metadata": {},
   "outputs": [],
   "source": [
    "cluster0['labels'] = 2"
   ]
  },
  {
   "cell_type": "code",
   "execution_count": null,
   "metadata": {},
   "outputs": [],
   "source": [
    "cluster0.index = ['cluster2']"
   ]
  },
  {
   "cell_type": "code",
   "execution_count": null,
   "metadata": {},
   "outputs": [],
   "source": [
    "cluster0 = cluster0.iloc[:,:-1]\n",
    "cluster0"
   ]
  },
  {
   "cell_type": "code",
   "execution_count": null,
   "metadata": {},
   "outputs": [],
   "source": [
    "cluster1 = weekday[weekday['labels'] == 0].iloc[:,:-1]"
   ]
  },
  {
   "cell_type": "code",
   "execution_count": null,
   "metadata": {},
   "outputs": [],
   "source": [
    "from sklearn.metrics import silhouette_score\n",
    "x = cluster1\n",
    "score = {}\n",
    "for i in range(2,10):\n",
    "    km = KMeans(random_state=999,n_clusters=i)\n",
    "    res=km.fit(x)\n",
    "    labels = res.labels_\n",
    "    score[i] = silhouette_score(x, labels)\n",
    "    print(\"For n_clusters = {},\".format(i)+\" the silhouette_score is : {}\".format(score[i]))\n",
    "print('The choosen number of clusters is {}'.format([n for n in score.keys() if score[n]==max(score.values())][0]))"
   ]
  },
  {
   "cell_type": "code",
   "execution_count": null,
   "metadata": {},
   "outputs": [],
   "source": [
    "from sklearn.cluster import KMeans\n",
    "km = KMeans(random_state=999,n_clusters=2)\n",
    "res=km.fit(x)\n",
    "\n",
    "print 'Cluster assignments:',res.labels_\n",
    "print '\\nCluster centers:\\n',res.cluster_centers_\n",
    "print '\\nSum of squared errors:',res.inertia_"
   ]
  },
  {
   "cell_type": "code",
   "execution_count": null,
   "metadata": {},
   "outputs": [],
   "source": [
    "cluster1['labels'] = res.labels_\n",
    "cluster1.head()"
   ]
  },
  {
   "cell_type": "code",
   "execution_count": null,
   "metadata": {},
   "outputs": [],
   "source": [
    "cluster1[cluster1['labels'] == 0]"
   ]
  },
  {
   "cell_type": "code",
   "execution_count": null,
   "metadata": {},
   "outputs": [],
   "source": [
    "cluster1[cluster1['labels'] == 1]"
   ]
  },
  {
   "cell_type": "code",
   "execution_count": null,
   "metadata": {},
   "outputs": [],
   "source": [
    "day_mean = pd.DataFrame({x:0 for x in range(7)},index=['cluster0','cluster1'])\n",
    "day_mean.columns = cluster1.columns[:-1]\n",
    "for i in range(2):\n",
    "     day_mean.iloc[i] = cluster1[cluster1['labels']==i].iloc[:,:-1].mean()\n",
    "day_mean.head()"
   ]
  },
  {
   "cell_type": "code",
   "execution_count": null,
   "metadata": {},
   "outputs": [],
   "source": [
    "day_mean.T.plot(figsize=[15,8],title='different day-of-week trends for 2 clusters')\n",
    "plt.show()"
   ]
  },
  {
   "cell_type": "code",
   "execution_count": null,
   "metadata": {},
   "outputs": [],
   "source": [
    "day_mean = pd.concat([day_mean,cluster0])\n",
    "day_mean"
   ]
  },
  {
   "cell_type": "code",
   "execution_count": null,
   "metadata": {},
   "outputs": [],
   "source": [
    "day_mean.T.plot(figsize=[15,8],title='different day-of-week trends for 3 clusters')\n",
    "plt.show()"
   ]
  },
  {
   "cell_type": "code",
   "execution_count": null,
   "metadata": {},
   "outputs": [],
   "source": []
  }
 ],
 "metadata": {
  "kernelspec": {
   "display_name": "Python 2",
   "language": "python",
   "name": "python2"
  },
  "language_info": {
   "codemirror_mode": {
    "name": "ipython",
    "version": 2
   },
   "file_extension": ".py",
   "mimetype": "text/x-python",
   "name": "python",
   "nbconvert_exporter": "python",
   "pygments_lexer": "ipython2",
   "version": "2.7.14"
  }
 },
 "nbformat": 4,
 "nbformat_minor": 2
}
